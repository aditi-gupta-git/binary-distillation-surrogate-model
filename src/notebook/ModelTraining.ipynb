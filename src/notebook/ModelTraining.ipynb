{
 "cells": [
  {
   "cell_type": "markdown",
   "id": "aa94eed6",
   "metadata": {},
   "source": [
    "# Model Training"
   ]
  },
  {
   "cell_type": "markdown",
   "id": "444f48fb",
   "metadata": {},
   "source": [
    "### 1.1 Import Data and Required Packages\n",
    "##### Importing Pandas, Numpy, Matplotlib, Seaborn and Warings Library."
   ]
  },
  {
   "cell_type": "code",
   "execution_count": 626,
   "id": "88f35404",
   "metadata": {},
   "outputs": [],
   "source": [
    "#Importing Packages\n",
    "import numpy as np\n",
    "import pandas as pd\n",
    "import matplotlib.pyplot as plt \n",
    "import seaborn as sns\n",
    "\n",
    "import warnings\n",
    "warnings.filterwarnings(\"ignore\")"
   ]
  },
  {
   "cell_type": "markdown",
   "id": "b892e3d6",
   "metadata": {},
   "source": [
    "##### Importing Modelling Libraries"
   ]
  },
  {
   "cell_type": "code",
   "execution_count": 627,
   "id": "6fe67ad3",
   "metadata": {},
   "outputs": [],
   "source": [
    "#Modeling Import\n",
    "from sklearn.linear_model import LinearRegression\n",
    "from sklearn.preprocessing import PolynomialFeatures, StandardScaler, OneHotEncoder\n",
    "from sklearn.model_selection import train_test_split, RandomizedSearchCV\n",
    "from sklearn.compose import ColumnTransformer\n",
    "from sklearn.pipeline import Pipeline\n",
    "from sklearn.multioutput import MultiOutputRegressor\n",
    "from sklearn.ensemble import RandomForestRegressor, AdaBoostRegressor\n",
    "from sklearn.svm import SVR\n",
    "from sklearn.metrics import mean_absolute_error, mean_squared_error, r2_score\n",
    "from xgboost import XGBRegressor"
   ]
  },
  {
   "cell_type": "markdown",
   "id": "c4bdab08",
   "metadata": {},
   "source": [
    "#### Importing CSV data as Pandas dataframe"
   ]
  },
  {
   "cell_type": "code",
   "execution_count": 628,
   "id": "de5dfcdf",
   "metadata": {},
   "outputs": [],
   "source": [
    "df = pd.read_csv('data/DWSIM.csv')"
   ]
  },
  {
   "cell_type": "code",
   "execution_count": 629,
   "id": "a753144f",
   "metadata": {},
   "outputs": [
    {
     "data": {
      "text/html": [
       "<div>\n",
       "<style scoped>\n",
       "    .dataframe tbody tr th:only-of-type {\n",
       "        vertical-align: middle;\n",
       "    }\n",
       "\n",
       "    .dataframe tbody tr th {\n",
       "        vertical-align: top;\n",
       "    }\n",
       "\n",
       "    .dataframe thead th {\n",
       "        text-align: right;\n",
       "    }\n",
       "</style>\n",
       "<table border=\"1\" class=\"dataframe\">\n",
       "  <thead>\n",
       "    <tr style=\"text-align: right;\">\n",
       "      <th></th>\n",
       "      <th>Reflux Ratio (R)</th>\n",
       "      <th>Boilup Ratio (B)</th>\n",
       "      <th>Feed Mole Fraction (xF)</th>\n",
       "      <th>Feed Flowrate (F) kmol/hr</th>\n",
       "      <th>Number of Stages (N)</th>\n",
       "      <th>Feed Thermal Condition (q)</th>\n",
       "      <th>Distillate Mole Fraction (xD)</th>\n",
       "      <th>Reboiler Duty (QR) (kW)</th>\n",
       "    </tr>\n",
       "  </thead>\n",
       "  <tbody>\n",
       "    <tr>\n",
       "      <th>0</th>\n",
       "      <td>3.89</td>\n",
       "      <td>1.66</td>\n",
       "      <td>0.21</td>\n",
       "      <td>74.18</td>\n",
       "      <td>25</td>\n",
       "      <td>1</td>\n",
       "      <td>0.806</td>\n",
       "      <td>2742</td>\n",
       "    </tr>\n",
       "    <tr>\n",
       "      <th>1</th>\n",
       "      <td>4.54</td>\n",
       "      <td>1.36</td>\n",
       "      <td>0.67</td>\n",
       "      <td>80.39</td>\n",
       "      <td>25</td>\n",
       "      <td>1</td>\n",
       "      <td>0.853</td>\n",
       "      <td>2637</td>\n",
       "    </tr>\n",
       "    <tr>\n",
       "      <th>2</th>\n",
       "      <td>3.56</td>\n",
       "      <td>2.58</td>\n",
       "      <td>0.61</td>\n",
       "      <td>86.30</td>\n",
       "      <td>25</td>\n",
       "      <td>1</td>\n",
       "      <td>0.848</td>\n",
       "      <td>3062</td>\n",
       "    </tr>\n",
       "    <tr>\n",
       "      <th>3</th>\n",
       "      <td>4.43</td>\n",
       "      <td>1.69</td>\n",
       "      <td>0.81</td>\n",
       "      <td>71.26</td>\n",
       "      <td>25</td>\n",
       "      <td>0</td>\n",
       "      <td>0.884</td>\n",
       "      <td>2722</td>\n",
       "    </tr>\n",
       "    <tr>\n",
       "      <th>4</th>\n",
       "      <td>2.69</td>\n",
       "      <td>2.17</td>\n",
       "      <td>0.45</td>\n",
       "      <td>99.56</td>\n",
       "      <td>20</td>\n",
       "      <td>1</td>\n",
       "      <td>0.820</td>\n",
       "      <td>3231</td>\n",
       "    </tr>\n",
       "  </tbody>\n",
       "</table>\n",
       "</div>"
      ],
      "text/plain": [
       "   Reflux Ratio (R)  Boilup Ratio (B)  Feed Mole Fraction (xF)  \\\n",
       "0              3.89              1.66                     0.21   \n",
       "1              4.54              1.36                     0.67   \n",
       "2              3.56              2.58                     0.61   \n",
       "3              4.43              1.69                     0.81   \n",
       "4              2.69              2.17                     0.45   \n",
       "\n",
       "   Feed Flowrate (F) kmol/hr  Number of Stages (N)  \\\n",
       "0                      74.18                    25   \n",
       "1                      80.39                    25   \n",
       "2                      86.30                    25   \n",
       "3                      71.26                    25   \n",
       "4                      99.56                    20   \n",
       "\n",
       "   Feed Thermal Condition (q)  Distillate Mole Fraction (xD)  \\\n",
       "0                           1                          0.806   \n",
       "1                           1                          0.853   \n",
       "2                           1                          0.848   \n",
       "3                           0                          0.884   \n",
       "4                           1                          0.820   \n",
       "\n",
       "   Reboiler Duty (QR) (kW)  \n",
       "0                     2742  \n",
       "1                     2637  \n",
       "2                     3062  \n",
       "3                     2722  \n",
       "4                     3231  "
      ]
     },
     "execution_count": 629,
     "metadata": {},
     "output_type": "execute_result"
    }
   ],
   "source": [
    "#Shows top 5 records\n",
    "df.head()"
   ]
  },
  {
   "cell_type": "code",
   "execution_count": 630,
   "id": "d65734b4",
   "metadata": {},
   "outputs": [
    {
     "data": {
      "text/plain": [
       "(373, 8)"
      ]
     },
     "execution_count": 630,
     "metadata": {},
     "output_type": "execute_result"
    }
   ],
   "source": [
    "#Shape of the dataset\n",
    "df.shape"
   ]
  },
  {
   "cell_type": "markdown",
   "id": "7ebd5f52",
   "metadata": {},
   "source": [
    "#### Missing Values"
   ]
  },
  {
   "cell_type": "code",
   "execution_count": 631,
   "id": "fd425208",
   "metadata": {},
   "outputs": [
    {
     "data": {
      "text/plain": [
       "Reflux Ratio (R)                 0\n",
       "Boilup Ratio (B)                 0\n",
       "Feed Mole Fraction (xF)          0\n",
       "Feed Flowrate (F) kmol/hr        0\n",
       "Number of Stages (N)             0\n",
       "Feed Thermal Condition (q)       0\n",
       "Distillate Mole Fraction (xD)    0\n",
       "Reboiler Duty (QR) (kW)          0\n",
       "dtype: int64"
      ]
     },
     "execution_count": 631,
     "metadata": {},
     "output_type": "execute_result"
    }
   ],
   "source": [
    "#checks for missing values\n",
    "df.isna().sum()"
   ]
  },
  {
   "cell_type": "code",
   "execution_count": 632,
   "id": "dd91ce5d",
   "metadata": {},
   "outputs": [
    {
     "name": "stdout",
     "output_type": "stream",
     "text": [
      "Dataset after removing failed runs: (373, 8)\n"
     ]
    }
   ],
   "source": [
    "if 'Distillate_MoleFraction' in df.columns:\n",
    "    df = df[(df['Distillate_MoleFraction'] >= 0) & (df['Distillate_MoleFraction'] <= 1)]\n",
    "\n",
    "if 'ReboilerDuty' in df.columns:\n",
    "    df = df[df['ReboilerDuty'] >= 0]\n",
    "\n",
    "df = df.dropna()\n",
    "print(\"Dataset after removing failed runs:\", df.shape)"
   ]
  },
  {
   "cell_type": "markdown",
   "id": "5e4c571f",
   "metadata": {},
   "source": [
    "#### Duplicate Value"
   ]
  },
  {
   "cell_type": "code",
   "execution_count": 633,
   "id": "9dbe4566",
   "metadata": {},
   "outputs": [
    {
     "data": {
      "text/plain": [
       "np.int64(66)"
      ]
     },
     "execution_count": 633,
     "metadata": {},
     "output_type": "execute_result"
    }
   ],
   "source": [
    "#Checks for duplicates\n",
    "df.duplicated().sum()"
   ]
  },
  {
   "cell_type": "code",
   "execution_count": 634,
   "id": "258aff43",
   "metadata": {},
   "outputs": [],
   "source": [
    "#Deletes duplicates\n",
    "df = df.drop_duplicates()"
   ]
  },
  {
   "cell_type": "code",
   "execution_count": 635,
   "id": "3e903f90",
   "metadata": {},
   "outputs": [
    {
     "data": {
      "text/plain": [
       "(307, 8)"
      ]
     },
     "execution_count": 635,
     "metadata": {},
     "output_type": "execute_result"
    }
   ],
   "source": [
    "df.shape"
   ]
  },
  {
   "cell_type": "markdown",
   "id": "55b3c1cf",
   "metadata": {},
   "source": [
    "#### Rename Columns"
   ]
  },
  {
   "cell_type": "code",
   "execution_count": 636,
   "id": "182fc903",
   "metadata": {},
   "outputs": [
    {
     "data": {
      "text/html": [
       "<div>\n",
       "<style scoped>\n",
       "    .dataframe tbody tr th:only-of-type {\n",
       "        vertical-align: middle;\n",
       "    }\n",
       "\n",
       "    .dataframe tbody tr th {\n",
       "        vertical-align: top;\n",
       "    }\n",
       "\n",
       "    .dataframe thead th {\n",
       "        text-align: right;\n",
       "    }\n",
       "</style>\n",
       "<table border=\"1\" class=\"dataframe\">\n",
       "  <thead>\n",
       "    <tr style=\"text-align: right;\">\n",
       "      <th></th>\n",
       "      <th>RefluxRatio</th>\n",
       "      <th>BoilupRatio</th>\n",
       "      <th>Feed_MoleFraction</th>\n",
       "      <th>Feed_Flowrate</th>\n",
       "      <th>Stages</th>\n",
       "      <th>Feed_ThermalCondition</th>\n",
       "      <th>Distillate_MoleFraction</th>\n",
       "      <th>ReboilerDuty</th>\n",
       "    </tr>\n",
       "  </thead>\n",
       "  <tbody>\n",
       "    <tr>\n",
       "      <th>0</th>\n",
       "      <td>3.89</td>\n",
       "      <td>1.66</td>\n",
       "      <td>0.21</td>\n",
       "      <td>74.18</td>\n",
       "      <td>25</td>\n",
       "      <td>1</td>\n",
       "      <td>0.806</td>\n",
       "      <td>2742</td>\n",
       "    </tr>\n",
       "    <tr>\n",
       "      <th>1</th>\n",
       "      <td>4.54</td>\n",
       "      <td>1.36</td>\n",
       "      <td>0.67</td>\n",
       "      <td>80.39</td>\n",
       "      <td>25</td>\n",
       "      <td>1</td>\n",
       "      <td>0.853</td>\n",
       "      <td>2637</td>\n",
       "    </tr>\n",
       "    <tr>\n",
       "      <th>2</th>\n",
       "      <td>3.56</td>\n",
       "      <td>2.58</td>\n",
       "      <td>0.61</td>\n",
       "      <td>86.30</td>\n",
       "      <td>25</td>\n",
       "      <td>1</td>\n",
       "      <td>0.848</td>\n",
       "      <td>3062</td>\n",
       "    </tr>\n",
       "    <tr>\n",
       "      <th>3</th>\n",
       "      <td>4.43</td>\n",
       "      <td>1.69</td>\n",
       "      <td>0.81</td>\n",
       "      <td>71.26</td>\n",
       "      <td>25</td>\n",
       "      <td>0</td>\n",
       "      <td>0.884</td>\n",
       "      <td>2722</td>\n",
       "    </tr>\n",
       "    <tr>\n",
       "      <th>4</th>\n",
       "      <td>2.69</td>\n",
       "      <td>2.17</td>\n",
       "      <td>0.45</td>\n",
       "      <td>99.56</td>\n",
       "      <td>20</td>\n",
       "      <td>1</td>\n",
       "      <td>0.820</td>\n",
       "      <td>3231</td>\n",
       "    </tr>\n",
       "  </tbody>\n",
       "</table>\n",
       "</div>"
      ],
      "text/plain": [
       "   RefluxRatio  BoilupRatio  Feed_MoleFraction  Feed_Flowrate  Stages  \\\n",
       "0         3.89         1.66               0.21          74.18      25   \n",
       "1         4.54         1.36               0.67          80.39      25   \n",
       "2         3.56         2.58               0.61          86.30      25   \n",
       "3         4.43         1.69               0.81          71.26      25   \n",
       "4         2.69         2.17               0.45          99.56      20   \n",
       "\n",
       "   Feed_ThermalCondition  Distillate_MoleFraction  ReboilerDuty  \n",
       "0                      1                    0.806          2742  \n",
       "1                      1                    0.853          2637  \n",
       "2                      1                    0.848          3062  \n",
       "3                      0                    0.884          2722  \n",
       "4                      1                    0.820          3231  "
      ]
     },
     "execution_count": 636,
     "metadata": {},
     "output_type": "execute_result"
    }
   ],
   "source": [
    "#Renaming columns for better accessibility\n",
    "df.rename(columns={\n",
    "    'Reflux Ratio (R)': 'RefluxRatio',\n",
    "    'Boilup Ratio (B)': 'BoilupRatio',\n",
    "    'Feed Mole Fraction (xF)': 'Feed_MoleFraction',\n",
    "    'Feed Flowrate (F) kmol/hr': 'Feed_Flowrate',\n",
    "    'Number of Stages (N)': 'Stages',\n",
    "    'Feed Thermal Condition (q)': 'Feed_ThermalCondition',\n",
    "    'Distillate Mole Fraction (xD)': 'Distillate_MoleFraction',\n",
    "    'Reboiler Duty (QR) (kW)': 'ReboilerDuty'\n",
    "}, inplace=True)\n",
    "df.head()"
   ]
  },
  {
   "cell_type": "markdown",
   "id": "08bf0198",
   "metadata": {},
   "source": [
    "#### Unit Consistency Check"
   ]
  },
  {
   "cell_type": "code",
   "execution_count": 637,
   "id": "3d6f8cea",
   "metadata": {},
   "outputs": [
    {
     "name": "stdout",
     "output_type": "stream",
     "text": [
      "Feed Flowrate (kmol/h): 71.26 to 134.65\n",
      "Reboiler Duty (kW): 2549 to 3350\n"
     ]
    }
   ],
   "source": [
    "if \"Feed_Flowrate\" in df.columns:\n",
    "    print(\"Feed Flowrate (kmol/h):\", df[\"Feed_Flowrate\"].min(), \"to\", df[\"Feed_Flowrate\"].max())\n",
    "\n",
    "if \"ReboilerDuty\" in df.columns:\n",
    "    print(\"Reboiler Duty (kW):\", df[\"ReboilerDuty\"].min(), \"to\", df[\"ReboilerDuty\"].max())"
   ]
  },
  {
   "cell_type": "code",
   "execution_count": 638,
   "id": "5056c1a2",
   "metadata": {},
   "outputs": [
    {
     "name": "stdout",
     "output_type": "stream",
     "text": [
      "Before unit consistency check: (307, 8)\n",
      "After unit consistency check: (306, 8)\n"
     ]
    }
   ],
   "source": [
    "#Physical Consistency Checks\n",
    "print(\"Before unit consistency check:\", df.shape)\n",
    "# Distillate mole fraction must be between 0 and 1\n",
    "df = df[(df['Distillate_MoleFraction'] >= 0) & (df['Distillate_MoleFraction'] <= 1)]\n",
    "\n",
    "# Reflux ratio (R): 0.8 – 5.0\n",
    "df = df[(df['RefluxRatio'] >= 0.8) & (df['RefluxRatio'] <= 5.0)]\n",
    "\n",
    "# Boilup ratio (B): keep >0, assume upper limit 10\n",
    "df = df[(df['BoilupRatio'] > 0) & (df['BoilupRatio'] <= 10)]\n",
    "\n",
    "# Feed mole fraction of light key (xF): 0.2 – 0.95\n",
    "df = df[(df['Feed_MoleFraction'] >= 0.2) & (df['Feed_MoleFraction'] <= 0.95)]\n",
    "\n",
    "# Feed flowrate (F): vary ±30% around base\n",
    "if 'Feed_Flowrate' in df.columns:\n",
    "    F0 = df['Feed_Flowrate'].mean()  \n",
    "    df = df[(df['Feed_Flowrate'] >= 0.7 * F0) & (df['Feed_Flowrate'] <= 1.3 * F0)]\n",
    "\n",
    "# Number of stages (N): discrete values ( 15, 20, 25)\n",
    "if 'Stages' in df.columns:\n",
    "    df = df[df['Stages'].isin([15, 20, 25])]\n",
    "\n",
    "# Feed thermal condition (q): discrete categories\n",
    "if 'Feed_ThermalComposition' in df.columns:\n",
    "    df = df[(df['Feed_ThermalCondition'] >= 0) & (df['Feed_ThermalCondition'] <= 1)]\n",
    "\n",
    "print(\"After unit consistency check:\", df.shape)\n"
   ]
  },
  {
   "cell_type": "code",
   "execution_count": 639,
   "id": "9a79027a",
   "metadata": {},
   "outputs": [
    {
     "data": {
      "text/html": [
       "<div>\n",
       "<style scoped>\n",
       "    .dataframe tbody tr th:only-of-type {\n",
       "        vertical-align: middle;\n",
       "    }\n",
       "\n",
       "    .dataframe tbody tr th {\n",
       "        vertical-align: top;\n",
       "    }\n",
       "\n",
       "    .dataframe thead th {\n",
       "        text-align: right;\n",
       "    }\n",
       "</style>\n",
       "<table border=\"1\" class=\"dataframe\">\n",
       "  <thead>\n",
       "    <tr style=\"text-align: right;\">\n",
       "      <th></th>\n",
       "      <th>RefluxRatio</th>\n",
       "      <th>BoilupRatio</th>\n",
       "      <th>Feed_MoleFraction</th>\n",
       "      <th>Feed_Flowrate</th>\n",
       "      <th>Stages</th>\n",
       "      <th>Feed_ThermalCondition</th>\n",
       "    </tr>\n",
       "  </thead>\n",
       "  <tbody>\n",
       "    <tr>\n",
       "      <th>0</th>\n",
       "      <td>3.89</td>\n",
       "      <td>1.66</td>\n",
       "      <td>0.21</td>\n",
       "      <td>74.18</td>\n",
       "      <td>25</td>\n",
       "      <td>1</td>\n",
       "    </tr>\n",
       "    <tr>\n",
       "      <th>1</th>\n",
       "      <td>4.54</td>\n",
       "      <td>1.36</td>\n",
       "      <td>0.67</td>\n",
       "      <td>80.39</td>\n",
       "      <td>25</td>\n",
       "      <td>1</td>\n",
       "    </tr>\n",
       "    <tr>\n",
       "      <th>2</th>\n",
       "      <td>3.56</td>\n",
       "      <td>2.58</td>\n",
       "      <td>0.61</td>\n",
       "      <td>86.30</td>\n",
       "      <td>25</td>\n",
       "      <td>1</td>\n",
       "    </tr>\n",
       "    <tr>\n",
       "      <th>4</th>\n",
       "      <td>2.69</td>\n",
       "      <td>2.17</td>\n",
       "      <td>0.45</td>\n",
       "      <td>99.56</td>\n",
       "      <td>20</td>\n",
       "      <td>1</td>\n",
       "    </tr>\n",
       "    <tr>\n",
       "      <th>5</th>\n",
       "      <td>1.35</td>\n",
       "      <td>2.43</td>\n",
       "      <td>0.23</td>\n",
       "      <td>87.97</td>\n",
       "      <td>15</td>\n",
       "      <td>0</td>\n",
       "    </tr>\n",
       "  </tbody>\n",
       "</table>\n",
       "</div>"
      ],
      "text/plain": [
       "   RefluxRatio  BoilupRatio  Feed_MoleFraction  Feed_Flowrate  Stages  \\\n",
       "0         3.89         1.66               0.21          74.18      25   \n",
       "1         4.54         1.36               0.67          80.39      25   \n",
       "2         3.56         2.58               0.61          86.30      25   \n",
       "4         2.69         2.17               0.45          99.56      20   \n",
       "5         1.35         2.43               0.23          87.97      15   \n",
       "\n",
       "   Feed_ThermalCondition  \n",
       "0                      1  \n",
       "1                      1  \n",
       "2                      1  \n",
       "4                      1  \n",
       "5                      0  "
      ]
     },
     "execution_count": 639,
     "metadata": {},
     "output_type": "execute_result"
    }
   ],
   "source": [
    "#Independent Features\n",
    "X = df.drop(columns=['Distillate_MoleFraction','ReboilerDuty'])\n",
    "X.head()"
   ]
  },
  {
   "cell_type": "code",
   "execution_count": 640,
   "id": "a926aedb",
   "metadata": {},
   "outputs": [],
   "source": [
    "#Dependent Features\n",
    "y = df[['Distillate_MoleFraction', 'ReboilerDuty']]"
   ]
  },
  {
   "cell_type": "code",
   "execution_count": 641,
   "id": "4ef1f37e",
   "metadata": {},
   "outputs": [
    {
     "data": {
      "text/plain": [
       "((214, 6), (46, 6))"
      ]
     },
     "execution_count": 641,
     "metadata": {},
     "output_type": "execute_result"
    }
   ],
   "source": [
    "#Train Test Split\n",
    "X_train, X_temp, y_train, y_temp = train_test_split(X, y, test_size=0.3, random_state=42)\n",
    "X_val, X_test, y_val, y_test = train_test_split(X_temp, y_temp, test_size=0.5, random_state=42)\n",
    "\n",
    "X_train.shape, X_test.shape"
   ]
  },
  {
   "cell_type": "code",
   "execution_count": 642,
   "id": "1915eb98",
   "metadata": {},
   "outputs": [],
   "source": [
    "# Define categorical and numerical feature columns\n",
    "cat_features = ['Feed_ThermalCondition']\n",
    "num_features = [col for col in X.columns if col not in cat_features]\n",
    "\n",
    "numeric_transformer = StandardScaler()                     # Standardize numerical features\n",
    "cat_transformer = OneHotEncoder()                          # OneHot encode categorical features\n",
    "\n",
    "#Apply scaling to numeric features and encoding to categorical features\n",
    "preprocessor = ColumnTransformer(\n",
    "    [\n",
    "        (\"OneHotEncoder\", cat_transformer, cat_features),\n",
    "         (\"StandardScaler\", numeric_transformer, num_features),        \n",
    "    ]\n",
    ")"
   ]
  },
  {
   "cell_type": "code",
   "execution_count": 643,
   "id": "860cb965",
   "metadata": {},
   "outputs": [],
   "source": [
    "#Apply transformations to the features\n",
    "X_processed = preprocessor.fit_transform(X)"
   ]
  },
  {
   "cell_type": "code",
   "execution_count": 644,
   "id": "7f1105ad",
   "metadata": {},
   "outputs": [
    {
     "data": {
      "text/plain": [
       "(306, 6)"
      ]
     },
     "execution_count": 644,
     "metadata": {},
     "output_type": "execute_result"
    }
   ],
   "source": [
    "# Check shape before and after transformation\n",
    "#5 numerical\n",
    "#1 categorical\n",
    "X.shape      \n"
   ]
  },
  {
   "cell_type": "code",
   "execution_count": 645,
   "id": "7ae1ed3b",
   "metadata": {},
   "outputs": [
    {
     "data": {
      "text/plain": [
       "(306, 7)"
      ]
     },
     "execution_count": 645,
     "metadata": {},
     "output_type": "execute_result"
    }
   ],
   "source": [
    "#5 standardized numerical features\n",
    "#1 categorical feature turned into 2 one-hot encoded columns\n",
    "X_processed.shape"
   ]
  },
  {
   "cell_type": "code",
   "execution_count": 646,
   "id": "fa35f795",
   "metadata": {},
   "outputs": [],
   "source": [
    "models = {\n",
    "    \"Polynomial Regression\": Pipeline([\n",
    "        ('pre', preprocessor),\n",
    "        ('poly', PolynomialFeatures(degree=3)),\n",
    "        ('linreg', MultiOutputRegressor(LinearRegression()))\n",
    "    ]),\n",
    "    \"Random Forest\": Pipeline([\n",
    "        ('pre', preprocessor),\n",
    "        ('rf', MultiOutputRegressor(RandomForestRegressor(n_estimators=200, random_state=42)))\n",
    "    ]),\n",
    "    \"AdaBoost\": Pipeline([\n",
    "        ('pre', preprocessor),\n",
    "        ('ada', MultiOutputRegressor(AdaBoostRegressor(random_state=42)))\n",
    "    ]),\n",
    "    \"SVR\": Pipeline([\n",
    "        ('pre', preprocessor),\n",
    "        ('svr', MultiOutputRegressor(SVR()))\n",
    "    ]),\n",
    "    \"XGBoost\": Pipeline([\n",
    "        ('pre', preprocessor),\n",
    "        ('xgb', MultiOutputRegressor(XGBRegressor(n_estimators=200, learning_rate=0.1, random_state=42, verbosity=0)))\n",
    "    ])\n",
    "}\n"
   ]
  },
  {
   "cell_type": "code",
   "execution_count": 647,
   "id": "6920f59f",
   "metadata": {},
   "outputs": [],
   "source": [
    "param_grids = {\n",
    "    \"Polynomial Regression\": {\n",
    "        'poly__degree': [2, 3, 4]  # polynomial degree\n",
    "    },\n",
    "    \"Random Forest\": {\n",
    "        'rf__estimator__n_estimators': [100, 200, 300],\n",
    "        'rf__estimator__max_depth': [None, 5, 10, 20],\n",
    "        'rf__estimator__min_samples_split': [2, 5, 10],\n",
    "        'rf__estimator__min_samples_leaf': [1, 2, 4]\n",
    "    },\n",
    "    \"AdaBoost\": {\n",
    "        'ada__estimator__n_estimators': [50, 100, 200],\n",
    "        'ada__estimator__learning_rate': [0.01, 0.1, 1.0]\n",
    "    },\n",
    "    \"SVR\": {\n",
    "        'svr__estimator__C': [0.1, 1, 10, 100],\n",
    "        'svr__estimator__gamma': ['scale', 'auto'],\n",
    "        'svr__estimator__kernel': ['rbf', 'poly', 'linear']\n",
    "    },\n",
    "    \"XGBoost\": {\n",
    "        'xgb__estimator__n_estimators': [100, 200, 500],\n",
    "        'xgb__estimator__max_depth': [3, 5, 7],\n",
    "        'xgb__estimator__learning_rate': [0.01, 0.05, 0.1],\n",
    "        'xgb__estimator__subsample': [0.7, 0.9, 1.0]\n",
    "    }\n",
    "}\n"
   ]
  },
  {
   "cell_type": "code",
   "execution_count": null,
   "id": "e9bc0020",
   "metadata": {},
   "outputs": [
    {
     "name": "stdout",
     "output_type": "stream",
     "text": [
      "Fitting 3 folds for each of 3 candidates, totalling 9 fits\n",
      "Fitting 3 folds for each of 10 candidates, totalling 30 fits\n",
      "Fitting 3 folds for each of 9 candidates, totalling 27 fits\n"
     ]
    }
   ],
   "source": [
    "\n",
    "def tune_and_evaluate(models, param_grids, X_train, y_train, X_val, y_val, X_test, y_test, n_iter=10, cv=3):\n",
    "#Tune hyperparameters via RandomizedSearchCV for each model and report metrics.\n",
    "    results = {}\n",
    "\n",
    "    for name, model in models.items():\n",
    "        # Check if hyperparameter grid exists for this model\n",
    "        if name in param_grids:\n",
    "            search = RandomizedSearchCV(\n",
    "                model,\n",
    "                param_distributions=param_grids[name],\n",
    "                n_iter=n_iter,\n",
    "                scoring='r2',\n",
    "                cv=cv,\n",
    "                random_state=42,\n",
    "                n_jobs=-1,\n",
    "                verbose=1\n",
    "            )\n",
    "            search.fit(X_train, y_train)\n",
    "            best_model = search.best_estimator_\n",
    "            \n",
    "        else:\n",
    "            # If no grid, just fit the model directly\n",
    "            best_model = model.fit(X_train, y_train)\n",
    "\n",
    "        # --- Validation metrics ---\n",
    "        y_val_pred = best_model.predict(X_val)\n",
    "        mae_val = mean_absolute_error(y_val, y_val_pred)\n",
    "        rmse_val = np.sqrt(mean_squared_error(y_val, y_val_pred))\n",
    "        r2_val = r2_score(y_val, y_val_pred)\n",
    "\n",
    "        # --- Test metrics ---\n",
    "        y_test_pred = best_model.predict(X_test)\n",
    "        mae_test = mean_absolute_error(y_test, y_test_pred)\n",
    "        rmse_test = np.sqrt(mean_squared_error(y_test, y_test_pred))\n",
    "        r2_test = r2_score(y_test, y_test_pred)\n",
    "\n",
    "        # Store results\n",
    "        results[name] = {\n",
    "            \"Best Model\": best_model,\n",
    "            \"Val MAE\": mae_val,\n",
    "            \"Val RMSE\": rmse_val,\n",
    "            \"Val R²\": r2_val,\n",
    "            \"Test MAE\": mae_test,\n",
    "            \"Test RMSE\": rmse_test,\n",
    "            \"Test R²\": r2_test\n",
    "        }\n",
    "    return results\n",
    "results = tune_and_evaluate(models, param_grids, X_train, y_train, X_val, y_val, X_test, y_test)"
   ]
  },
  {
   "cell_type": "code",
   "execution_count": null,
   "id": "f243a734",
   "metadata": {},
   "outputs": [
    {
     "data": {
      "text/html": [
       "<div>\n",
       "<style scoped>\n",
       "    .dataframe tbody tr th:only-of-type {\n",
       "        vertical-align: middle;\n",
       "    }\n",
       "\n",
       "    .dataframe tbody tr th {\n",
       "        vertical-align: top;\n",
       "    }\n",
       "\n",
       "    .dataframe thead th {\n",
       "        text-align: right;\n",
       "    }\n",
       "</style>\n",
       "<table border=\"1\" class=\"dataframe\">\n",
       "  <thead>\n",
       "    <tr style=\"text-align: right;\">\n",
       "      <th></th>\n",
       "      <th>Model</th>\n",
       "      <th>Val MAE</th>\n",
       "      <th>Val RMSE</th>\n",
       "      <th>Val R²</th>\n",
       "      <th>Test MAE</th>\n",
       "      <th>Test RMSE</th>\n",
       "      <th>Test R²</th>\n",
       "    </tr>\n",
       "  </thead>\n",
       "  <tbody>\n",
       "    <tr>\n",
       "      <th>0</th>\n",
       "      <td>Polynomial Regression</td>\n",
       "      <td>31.205689</td>\n",
       "      <td>59.842572</td>\n",
       "      <td>0.773138</td>\n",
       "      <td>38.927603</td>\n",
       "      <td>79.972304</td>\n",
       "      <td>0.603202</td>\n",
       "    </tr>\n",
       "    <tr>\n",
       "      <th>1</th>\n",
       "      <td>Random Forest</td>\n",
       "      <td>16.029225</td>\n",
       "      <td>44.777417</td>\n",
       "      <td>0.899587</td>\n",
       "      <td>25.833033</td>\n",
       "      <td>63.460892</td>\n",
       "      <td>0.764457</td>\n",
       "    </tr>\n",
       "    <tr>\n",
       "      <th>2</th>\n",
       "      <td>AdaBoost</td>\n",
       "      <td>27.153505</td>\n",
       "      <td>56.080649</td>\n",
       "      <td>0.849201</td>\n",
       "      <td>34.443497</td>\n",
       "      <td>71.427358</td>\n",
       "      <td>0.725384</td>\n",
       "    </tr>\n",
       "    <tr>\n",
       "      <th>3</th>\n",
       "      <td>SVR</td>\n",
       "      <td>28.792548</td>\n",
       "      <td>57.830207</td>\n",
       "      <td>0.349886</td>\n",
       "      <td>35.763284</td>\n",
       "      <td>71.634928</td>\n",
       "      <td>0.228871</td>\n",
       "    </tr>\n",
       "    <tr>\n",
       "      <th>4</th>\n",
       "      <td>XGBoost</td>\n",
       "      <td>15.237474</td>\n",
       "      <td>39.812086</td>\n",
       "      <td>0.894503</td>\n",
       "      <td>22.526592</td>\n",
       "      <td>57.842100</td>\n",
       "      <td>0.786709</td>\n",
       "    </tr>\n",
       "  </tbody>\n",
       "</table>\n",
       "</div>"
      ],
      "text/plain": [
       "                   Model    Val MAE   Val RMSE    Val R²   Test MAE  \\\n",
       "0  Polynomial Regression  31.205689  59.842572  0.773138  38.927603   \n",
       "1          Random Forest  16.029225  44.777417  0.899587  25.833033   \n",
       "2               AdaBoost  27.153505  56.080649  0.849201  34.443497   \n",
       "3                    SVR  28.792548  57.830207  0.349886  35.763284   \n",
       "4                XGBoost  15.237474  39.812086  0.894503  22.526592   \n",
       "\n",
       "   Test RMSE   Test R²  \n",
       "0  79.972304  0.603202  \n",
       "1  63.460892  0.764457  \n",
       "2  71.427358  0.725384  \n",
       "3  71.634928  0.228871  \n",
       "4  57.842100  0.786709  "
      ]
     },
     "execution_count": 581,
     "metadata": {},
     "output_type": "execute_result"
    }
   ],
   "source": [
    "# Convert results dict to simple DataFrame\n",
    "metrics_table = pd.DataFrame([\n",
    "    {\n",
    "        \"Model\": name,\n",
    "        \"Val MAE\": metrics[\"Val MAE\"],\n",
    "        \"Val RMSE\": metrics[\"Val RMSE\"],\n",
    "        \"Val R²\": metrics[\"Val R²\"],\n",
    "        \"Test MAE\": metrics[\"Test MAE\"],\n",
    "        \"Test RMSE\": metrics[\"Test RMSE\"],\n",
    "        \"Test R²\": metrics[\"Test R²\"]\n",
    "    }\n",
    "    for name, metrics in results.items()\n",
    "])\n",
    "\n",
    "\n",
    "# Display the table\n",
    "metrics_table\n"
   ]
  },
  {
   "cell_type": "markdown",
   "id": "e2301371",
   "metadata": {},
   "source": [
    "#### Physical Consistency Check "
   ]
  },
  {
   "cell_type": "code",
   "execution_count": null,
   "id": "c407c18d",
   "metadata": {},
   "outputs": [],
   "source": [
    "#Enforce Bounds\n",
    "best_model = results[\"XGBoost\"][\"Best Model\"]\n",
    "\n",
    "y_test_pred = best_model.predict(X_test)\n",
    "\n",
    "y_test_pred = pd.DataFrame(y_test_pred, columns=['Distillate_MoleFraction', 'ReboilerDuty'])\n",
    "y_test_true = pd.DataFrame(y_test, columns=['Distillate_MoleFraction', 'ReboilerDuty'])\n",
    "\n",
    "# --- 1. Bounds check: enforce 0 ≤ xD ≤ 1 ---\n",
    "y_test_pred['Distillate_MoleFraction'] = y_test_pred['Distillate_MoleFraction'].clip(0, 1)"
   ]
  },
  {
   "cell_type": "code",
   "execution_count": null,
   "id": "0d5b7442",
   "metadata": {},
   "outputs": [
    {
     "name": "stdout",
     "output_type": "stream",
     "text": [
      "Monotonicity violations found: 1\n"
     ]
    }
   ],
   "source": [
    "#Monotonic sanity check\n",
    "def monotonic_check(X, y_pred):\n",
    "    violations = 0\n",
    "    grouped = pd.concat([X.reset_index(drop=True), y_pred.reset_index(drop=True)], axis=1)\n",
    "    for (xF, N), g in grouped.groupby(['Feed_MoleFraction', 'Stages']):\n",
    "        g_sorted = g.sort_values('RefluxRatio')\n",
    "        if (g_sorted['Distillate_MoleFraction'].diff().dropna() < -1e-3).any():\n",
    "            violations += 1\n",
    "    print(f\"Monotonicity violations found: {violations}\")\n",
    "\n",
    "monotonic_check(X_test, y_test_pred)"
   ]
  },
  {
   "cell_type": "code",
   "execution_count": null,
   "id": "f21432ed",
   "metadata": {},
   "outputs": [
    {
     "data": {
      "image/png": "[encoded data removed]",
      "text/plain": [
       "<Figure size 1200x500 with 2 Axes>"
      ]
     },
     "metadata": {},
     "output_type": "display_data"
    }
   ],
   "source": [
    "\n",
    "if isinstance(y_test_pred, pd.DataFrame):\n",
    "    y_test_pred = y_test_pred.values\n",
    "\n",
    "fig, axes = plt.subplots(1, 2, figsize=(12, 5))\n",
    "fig.suptitle(\"Parity Plots\", fontsize=16, fontweight='bold', y=1.05)\n",
    "\n",
    "# xD parity\n",
    "axes[0].scatter(y_test['Distillate_MoleFraction'], y_test_pred[:, 0], s=80, alpha=0.7, color=\"#5CB8E6\", edgecolor='w')\n",
    "axes[0].plot([0, 1], [0, 1], '--', color='skyblue')\n",
    "axes[0].set_xlabel(\"True xD\")\n",
    "axes[0].set_ylabel(\"Predicted xD\")\n",
    "axes[0].set_title(\"Parity Plot - Distillate Mole Fraction\")\n",
    "\n",
    "# QR parity\n",
    "qr_min, qr_max = y_test['ReboilerDuty'].min(), y_test['ReboilerDuty'].max()\n",
    "axes[1].scatter(y_test['ReboilerDuty'], y_test_pred[:, 1], s=80, alpha=0.7, color=\"#FFD166\", edgecolor='#FFD166')\n",
    "axes[1].plot([qr_min, qr_max], [qr_min, qr_max], '--', color='orange')\n",
    "axes[1].set_xlabel(\"True QR\")\n",
    "axes[1].set_ylabel(\"Predicted QR\")\n",
    "axes[1].set_title(\"Parity Plot - Reboiler Duty\")\n",
    "\n",
    "plt.tight_layout()\n",
    "plt.show()\n",
    "\n"
   ]
  },
  {
   "cell_type": "code",
   "execution_count": null,
   "id": "97cc0185",
   "metadata": {},
   "outputs": [
    {
     "data": {
      "image/png": "[encoded data removed]",
      "text/plain": [
       "<Figure size 640x480 with 1 Axes>"
      ]
     },
     "metadata": {},
     "output_type": "display_data"
    }
   ],
   "source": [
    "residuals = y_test['Distillate_MoleFraction'] - y_test_pred[:,0]\n",
    "plt.scatter(X_test['RefluxRatio'], residuals, s=80, alpha=0.7, c='#B894D9', edgecolor='#B894D9')\n",
    "plt.axhline(0, color='purple', linestyle='--')\n",
    "plt.xlabel(\"Reflux Ratio\")\n",
    "plt.ylabel(\"Residuals\")\n",
    "plt.title(\"Residual Plot vs Reflux Ratio\")\n",
    "plt.show()"
   ]
  },
  {
   "cell_type": "code",
   "execution_count": null,
   "id": "ebf32b90",
   "metadata": {},
   "outputs": [
    {
     "name": "stdout",
     "output_type": "stream",
     "text": [
      "No samples in test set with Distillate_MoleFraction ≥ 0.95\n"
     ]
    }
   ],
   "source": [
    "#Error slices: high purity region (xD ≥ 0.95)\n",
    "mask_hp = y_test_true['Distillate_MoleFraction'] >= 0.95\n",
    "if mask_hp.any():\n",
    "    mae_hp = mean_absolute_error(y_test_true.loc[mask_hp, 'Distillate_MoleFraction'], y_test_pred.loc[mask_hp, 'Distillate_MoleFraction'])\n",
    "    rmse_hp = np.sqrt(mean_squared_error(y_test_true.loc[mask_hp, 'Distillate_MoleFraction'], y_test_pred.loc[mask_hp, 'Distillate_MoleFraction']))\n",
    "    r2_hp = r2_score(y_test_true.loc[mask_hp, 'Distillate_MoleFraction'], y_test_pred.loc[mask_hp, 'Distillate_MoleFraction'])\n",
    "    print(\"High-purity region metrics (Distillate_MoleFraction ≥ 0.95):\")\n",
    "    print(f\"  MAE  = {mae_hp:.4f}\")\n",
    "    print(f\"  RMSE = {rmse_hp:.4f}\")\n",
    "    print(f\"  R²   = {r2_hp:.4f}\")\n",
    "else:\n",
    "    print(\"No samples in test set with Distillate_MoleFraction ≥ 0.95\")"
   ]
  },
  {
   "cell_type": "code",
   "execution_count": null,
   "id": "9f0a123e",
   "metadata": {},
   "outputs": [
    {
     "data": {
      "image/png": "[encoded data removed]",
      "text/plain": [
       "<Figure size 640x480 with 1 Axes>"
      ]
     },
     "metadata": {},
     "output_type": "display_data"
    },
    {
     "data": {
      "image/png": "[encoded data removed]",
      "text/plain": [
       "<Figure size 640x480 with 1 Axes>"
      ]
     },
     "metadata": {},
     "output_type": "display_data"
    }
   ],
   "source": [
    "# Parity plot for xD\n",
    "if isinstance(y_test_pred, pd.DataFrame):\n",
    "    y_test_pred = y_test_pred.values\n",
    "\n",
    "plt.scatter(y_test['Distillate_MoleFraction'], y_test_pred[:, 0], alpha=0.5, edgecolor='k')\n",
    "plt.plot([0, 1], [0, 1], '--', color='red')\n",
    "plt.xlabel(\"True xD\")\n",
    "plt.ylabel(\"Predicted xD\")\n",
    "plt.title(\"Parity Plot - xD\")\n",
    "plt.show()\n",
    "\n",
    "# Parity plot for QR\n",
    "plt.scatter(y_test['ReboilerDuty'], y_test_pred[:, 1], alpha=0.5, edgecolor='k')\n",
    "plt.plot([y_test['ReboilerDuty'].min(), y_test['ReboilerDuty'].max()],\n",
    "         [y_test['ReboilerDuty'].min(), y_test['ReboilerDuty'].max()],\n",
    "         '--', color='red')\n",
    "plt.xlabel(\"True QR\")\n",
    "plt.ylabel(\"Predicted QR\")\n",
    "plt.title(\"Parity Plot - QR\")\n",
    "plt.show()\n"
   ]
  },
  {
   "cell_type": "markdown",
   "id": "912a39bb",
   "metadata": {},
   "source": [
    "#### Generalisation Check"
   ]
  },
  {
   "cell_type": "code",
   "execution_count": null,
   "id": "69811a74",
   "metadata": {},
   "outputs": [
    {
     "data": {
      "text/html": [
       "<div>\n",
       "<style scoped>\n",
       "    .dataframe tbody tr th:only-of-type {\n",
       "        vertical-align: middle;\n",
       "    }\n",
       "\n",
       "    .dataframe tbody tr th {\n",
       "        vertical-align: top;\n",
       "    }\n",
       "\n",
       "    .dataframe thead th {\n",
       "        text-align: right;\n",
       "    }\n",
       "</style>\n",
       "<table border=\"1\" class=\"dataframe\">\n",
       "  <thead>\n",
       "    <tr style=\"text-align: right;\">\n",
       "      <th></th>\n",
       "      <th>Model</th>\n",
       "      <th>Val R²</th>\n",
       "      <th>Test R²</th>\n",
       "      <th>Generalization Gap</th>\n",
       "    </tr>\n",
       "  </thead>\n",
       "  <tbody>\n",
       "    <tr>\n",
       "      <th>0</th>\n",
       "      <td>Polynomial Regression</td>\n",
       "      <td>0.773138</td>\n",
       "      <td>0.603202</td>\n",
       "      <td>0.169936</td>\n",
       "    </tr>\n",
       "    <tr>\n",
       "      <th>1</th>\n",
       "      <td>Random Forest</td>\n",
       "      <td>0.899587</td>\n",
       "      <td>0.764457</td>\n",
       "      <td>0.135130</td>\n",
       "    </tr>\n",
       "    <tr>\n",
       "      <th>2</th>\n",
       "      <td>AdaBoost</td>\n",
       "      <td>0.849201</td>\n",
       "      <td>0.725384</td>\n",
       "      <td>0.123817</td>\n",
       "    </tr>\n",
       "    <tr>\n",
       "      <th>3</th>\n",
       "      <td>SVR</td>\n",
       "      <td>0.349886</td>\n",
       "      <td>0.228871</td>\n",
       "      <td>0.121015</td>\n",
       "    </tr>\n",
       "    <tr>\n",
       "      <th>4</th>\n",
       "      <td>XGBoost</td>\n",
       "      <td>0.894503</td>\n",
       "      <td>0.786709</td>\n",
       "      <td>0.107794</td>\n",
       "    </tr>\n",
       "  </tbody>\n",
       "</table>\n",
       "</div>"
      ],
      "text/plain": [
       "                   Model    Val R²   Test R²  Generalization Gap\n",
       "0  Polynomial Regression  0.773138  0.603202            0.169936\n",
       "1          Random Forest  0.899587  0.764457            0.135130\n",
       "2               AdaBoost  0.849201  0.725384            0.123817\n",
       "3                    SVR  0.349886  0.228871            0.121015\n",
       "4                XGBoost  0.894503  0.786709            0.107794"
      ]
     },
     "execution_count": 582,
     "metadata": {},
     "output_type": "execute_result"
    }
   ],
   "source": [
    "metrics_table['Generalization Gap'] = metrics_table['Val R²'] - metrics_table['Test R²']\n",
    "metrics_table[['Model','Val R²','Test R²','Generalization Gap']]"
   ]
  }
 ],
 "metadata": {
  "kernelspec": {
   "display_name": "Python 3",
   "language": "python",
   "name": "python3"
  },
  "language_info": {
   "codemirror_mode": {
    "name": "ipython",
    "version": 3
   },
   "file_extension": ".py",
   "mimetype": "text/x-python",
   "name": "python",
   "nbconvert_exporter": "python",
   "pygments_lexer": "ipython3",
   "version": "3.13.7"
  }
 },
 "nbformat": 4,
 "nbformat_minor": 5
}
